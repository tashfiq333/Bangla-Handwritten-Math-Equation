{
  "nbformat": 4,
  "nbformat_minor": 0,
  "metadata": {
    "colab": {
      "provenance": [],
      "collapsed_sections": [
        "zC_28_htuYNP"
      ]
    },
    "kernelspec": {
      "name": "python3",
      "display_name": "Python 3"
    },
    "gpuClass": "standard"
  },
  "cells": [
    {
      "cell_type": "markdown",
      "metadata": {
        "id": "ZzLR276UIHcI"
      },
      "source": [
        "# **Evaluation of handwritten mathematical equations**\n",
        "\n",
        "> Aim of this project  is to develop a computer vision algorithm along with solution package for recognizing and digitizing steps of solving a mathematical equation written by freehand on a paper, validating the steps and final answer of the recognized handwritten lines by maintaining the context "
      ]
    },
    {
      "cell_type": "markdown",
      "metadata": {
        "id": "ir6J5l9UurRS"
      },
      "source": [
        "## Import Dependencies"
      ]
    },
    {
      "cell_type": "code",
      "metadata": {
        "id": "3w9iqGoL_m55"
      },
      "source": [
        "#Loading libraries\n",
        "import cv2\n",
        "import numpy as np\n",
        "import matplotlib.pyplot as plt\n",
        "import pandas as pd\n",
        "import os\n",
        "from scipy import ndimage\n",
        "import math\n",
        "import keras\n",
        "import ast\n",
        "import operator as op\n",
        "import re\n",
        "from keras_preprocessing.image import ImageDataGenerator\n",
        "#Suppressing warning\n",
        "def warn(*args, **kwargs):\n",
        "    pass\n",
        "import warnings\n",
        "warnings.warn = warn"
      ],
      "execution_count": null,
      "outputs": []
    },
    {
      "cell_type": "markdown",
      "metadata": {
        "id": "jsJyQr7zu9Wb"
      },
      "source": [
        "## Load the model"
      ]
    },
    {
      "cell_type": "code",
      "metadata": {
        "id": "-Rc9x7jWO66l",
        "outputId": "1dd48cbe-4073-4437-c975-2fcc3c0ed3c3",
        "colab": {
          "base_uri": "https://localhost:8080/"
        }
      },
      "source": [
        "!git clone https://github.com/divyaprabha123/Autograding-handwritten-mathematical-worksheets.git"
      ],
      "execution_count": null,
      "outputs": [
        {
          "output_type": "stream",
          "name": "stdout",
          "text": [
            "Cloning into 'Autograding-handwritten-mathematical-worksheets'...\n",
            "remote: Enumerating objects: 109, done.\u001b[K\n",
            "remote: Counting objects: 100% (7/7), done.\u001b[K\n",
            "remote: Compressing objects: 100% (7/7), done.\u001b[K\n",
            "remote: Total 109 (delta 1), reused 0 (delta 0), pack-reused 102\u001b[K\n",
            "Receiving objects: 100% (109/109), 9.19 MiB | 7.94 MiB/s, done.\n",
            "Resolving deltas: 100% (46/46), done.\n"
          ]
        }
      ]
    },
    {
      "cell_type": "code",
      "metadata": {
        "id": "6YqhLveouy8Y"
      },
      "source": [
        "#Global Variable\n",
        "dict_clean_img = {} #BINARY IMAGE DICTIONAY\n",
        "dict_img = {} #ORIGINAL IMAGE DICTIONARY\n",
        "\n",
        "#Keras support channel first (1,28,28) only\n",
        "keras.backend.set_image_data_format(\"channels_first\")\n",
        "\n"
      ],
      "execution_count": null,
      "outputs": []
    },
    {
      "cell_type": "markdown",
      "source": [
        "Google drive download\n"
      ],
      "metadata": {
        "id": "8hSeXnhQ7MiR"
      }
    },
    {
      "cell_type": "code",
      "source": [
        "!wget --no-check-certificate 'https://drive.google.com/u/0/uc?id=1bTsIzEQuCf3yRGC4_JFh-SShxwatSYNf&export=download' -O resnet.h5"
      ],
      "metadata": {
        "id": "eTsP9iuINBZH"
      },
      "execution_count": null,
      "outputs": []
    },
    {
      "cell_type": "markdown",
      "source": [
        "imageDataset"
      ],
      "metadata": {
        "id": "QNKgADXQ3iv0"
      }
    },
    {
      "cell_type": "code",
      "source": [
        "!wget --no-check-certificate 'https://drive.google.com/u/0/uc?id=1zNCKo9dA0ckBGaGCSn70cbwFGBtIsEG6&export=download' -O perfectDataset.zip"
      ],
      "metadata": {
        "id": "Lieg-EKs3uP4"
      },
      "execution_count": null,
      "outputs": []
    },
    {
      "cell_type": "code",
      "source": [
        "!unzip perfectDataset.zip "
      ],
      "metadata": {
        "id": "7eLq3rrq30cI"
      },
      "execution_count": null,
      "outputs": []
    },
    {
      "cell_type": "markdown",
      "source": [
        "\n",
        "\n",
        "\n",
        "Model Architecture"
      ],
      "metadata": {
        "id": "Tzb-4oEv7R6h"
      }
    },
    {
      "cell_type": "code",
      "source": [
        "from keras.callbacks import EarlyStopping\n",
        "from keras.layers import Dense, Conv2D,  MaxPool2D, Flatten, GlobalAveragePooling2D,  BatchNormalization, Layer, Add\n",
        "from keras.models import Sequential\n",
        "from keras.models import Model\n",
        "import tensorflow as tf\n",
        "\n",
        "\n",
        "class ResnetBlock(Model):\n",
        "    \"\"\"\n",
        "    A standard resnet block.\n",
        "    \"\"\"\n",
        "\n",
        "    def __init__(self, channels: int, down_sample=False):\n",
        "        \"\"\"\n",
        "        channels: same as number of convolution kernels\n",
        "        \"\"\"\n",
        "        super().__init__()\n",
        "\n",
        "        self.__channels = channels\n",
        "        self.__down_sample = down_sample\n",
        "        self.__strides = [2, 1] if down_sample else [1, 1]\n",
        "\n",
        "        KERNEL_SIZE = (3, 3)\n",
        "        # use He initialization, instead of Xavier (a.k.a 'glorot_uniform' in Keras), as suggested in [2]\n",
        "        INIT_SCHEME = \"he_normal\"\n",
        "\n",
        "        self.conv_1 = Conv2D(self.__channels, strides=self.__strides[0],\n",
        "                             kernel_size=KERNEL_SIZE, padding=\"same\", kernel_initializer=INIT_SCHEME)\n",
        "        self.bn_1 = BatchNormalization()\n",
        "        self.conv_2 = Conv2D(self.__channels, strides=self.__strides[1],\n",
        "                             kernel_size=KERNEL_SIZE, padding=\"same\", kernel_initializer=INIT_SCHEME)\n",
        "        self.bn_2 = BatchNormalization()\n",
        "        self.merge = Add()\n",
        "\n",
        "        if self.__down_sample:\n",
        "            # perform down sampling using stride of 2, according to [1].\n",
        "            self.res_conv = Conv2D(\n",
        "                self.__channels, strides=2, kernel_size=(1, 1), kernel_initializer=INIT_SCHEME, padding=\"same\")\n",
        "            self.res_bn = BatchNormalization()\n",
        "\n",
        "    def call(self, inputs):\n",
        "        res = inputs\n",
        "\n",
        "        x = self.conv_1(inputs)\n",
        "        x = self.bn_1(x)\n",
        "        x = tf.nn.relu(x)\n",
        "        x = self.conv_2(x)\n",
        "        x = self.bn_2(x)\n",
        "\n",
        "        if self.__down_sample:\n",
        "            res = self.res_conv(res)\n",
        "            res = self.res_bn(res)\n",
        "\n",
        "        # if not perform down sample, then add a shortcut directly\n",
        "        x = self.merge([x, res])\n",
        "        out = tf.nn.relu(x)\n",
        "        return out\n",
        "\n",
        "\n",
        "class ResNet18(Model):\n",
        "\n",
        "    def __init__(self, num_classes, **kwargs):\n",
        "        \"\"\"\n",
        "            num_classes: number of classes in specific classification task.\n",
        "        \"\"\"\n",
        "        super().__init__(**kwargs)\n",
        "        self.conv_1 = Conv2D(64, (7, 7), strides=2,\n",
        "                             padding=\"same\", kernel_initializer=\"he_normal\")\n",
        "        self.init_bn = BatchNormalization()\n",
        "        self.pool_2 = MaxPool2D(pool_size=(2, 2), strides=2, padding=\"same\")\n",
        "        self.res_1_1 = ResnetBlock(64)\n",
        "        self.res_1_2 = ResnetBlock(64)\n",
        "        self.res_2_1 = ResnetBlock(128, down_sample=True)\n",
        "        self.res_2_2 = ResnetBlock(128)\n",
        "        self.res_3_1 = ResnetBlock(256, down_sample=True)\n",
        "        self.res_3_2 = ResnetBlock(256)\n",
        "        self.res_4_1 = ResnetBlock(512, down_sample=True)\n",
        "        self.res_4_2 = ResnetBlock(512)\n",
        "        self.avg_pool = GlobalAveragePooling2D()\n",
        "        self.flat = Flatten()\n",
        "        self.fc = Dense(num_classes, activation=\"softmax\")\n",
        "\n",
        "    def call(self, inputs):\n",
        "        out = self.conv_1(inputs)\n",
        "        out = self.init_bn(out)\n",
        "        out = tf.nn.relu(out)\n",
        "        out = self.pool_2(out)\n",
        "        for res_block in [self.res_1_1, self.res_1_2, self.res_2_1, self.res_2_2, self.res_3_1, self.res_3_2, self.res_4_1, self.res_4_2]:\n",
        "            out = res_block(out)\n",
        "        out = self.avg_pool(out)\n",
        "        out = self.flat(out)\n",
        "        out = self.fc(out)\n",
        "        return out\n"
      ],
      "metadata": {
        "id": "ljjb9pkfQzjI"
      },
      "execution_count": null,
      "outputs": []
    },
    {
      "cell_type": "markdown",
      "source": [
        "**ResNet Weight loading**"
      ],
      "metadata": {
        "id": "ZH8YVM-u-2LU"
      }
    },
    {
      "cell_type": "code",
      "source": [
        "path =  os.path.join('/content/resnet.h5')\n",
        "model=ResNet18(20)\n",
        "model.build(input_shape = (None,1,28,28))\n",
        "model.summary()\n",
        "model.load_weights(path)"
      ],
      "metadata": {
        "id": "NQnQYD1i4ZHE"
      },
      "execution_count": null,
      "outputs": []
    },
    {
      "cell_type": "markdown",
      "source": [
        "\n",
        "\n",
        "\n",
        "\n",
        "**CNN Model weight loading**"
      ],
      "metadata": {
        "id": "LcNZU4Xd-3z0"
      }
    },
    {
      "cell_type": "code",
      "source": [
        "!wget --no-check-certificate 'https://drive.google.com/u/0/uc?id=1Prxn4bps6I0tQATEhBMlsacvTvs8wuK2&export=download' -O DCNN_10AD_sy.h5"
      ],
      "metadata": {
        "id": "C7bJToY3LJXu"
      },
      "execution_count": null,
      "outputs": []
    },
    {
      "cell_type": "code",
      "metadata": {
        "id": "5MLgvrs7Hv7-"
      },
      "source": [
        "path =  os.path.join('DCNN_10AD_sy.h5')\n",
        "print(path)\n",
        "#loading models\n",
        "try:\n",
        "    model = keras.models.load_model(path, compile=False)\n",
        "\n",
        "except Exception as e:\n",
        "    print('Model couldnot be loaded',e)"
      ],
      "execution_count": null,
      "outputs": []
    },
    {
      "cell_type": "markdown",
      "metadata": {
        "id": "zC_28_htuYNP"
      },
      "source": [
        "## Defining utils function"
      ]
    },
    {
      "cell_type": "code",
      "metadata": {
        "id": "grV_oAtRnQd2",
        "cellView": "both"
      },
      "source": [
        "#%%\n",
        "def image_resize(image, width = None, height = None, inter = cv2.INTER_LINEAR):\n",
        "    '''\n",
        "    image_resize : Function to resize images\n",
        "    argument:\n",
        "        image (Matrix)  : image to resize\n",
        "        width (Integer) : width of the required image \n",
        "        height (Integer): height of required image\n",
        "        inter (Method)  : Interpolation/Extrapolation method\n",
        "    output:\n",
        "        image (Matrix)  : image resized\n",
        "    '''\n",
        "    dim = None\n",
        "    (h, w) = image.shape[:2]\n",
        "\n",
        "    # if both the width and height are None, then return the\n",
        "    # original image\n",
        "    if width is None and height is None:\n",
        "        return image\n",
        "\n",
        "    # check to see if the width is None\n",
        "    if width is None:\n",
        "        # calculate the ratio of the height and construct the\n",
        "        # dimensions\n",
        "        r = height / float(h)\n",
        "        dim = (int(w * r), height)\n",
        "\n",
        "    # otherwise, the height is None\n",
        "    else:\n",
        "        # calculate the ratio of the width and construct the\n",
        "        # dimensions\n",
        "        r = width / float(w)\n",
        "        dim = (width, int(h * r))\n",
        "\n",
        "    # resize the image\n",
        "    resized = cv2.resize(image, dim, interpolation = inter)\n",
        "\n",
        "    # return the resized image\n",
        "    return resized\n",
        "\n",
        "'''\n",
        "Evaluate New\n",
        "'''\n",
        "# supported operators\n",
        "operators = {ast.Add: op.add, ast.Sub: op.sub, ast.Mult: op.mul,\n",
        "             ast.Div: op.truediv, ast.Pow: op.pow, ast.BitXor: op.xor,\n",
        "             ast.USub: op.neg}\n",
        "\n",
        "def eval_expr(expr):\n",
        "    \"\"\"\n",
        "    >>> eval_expr('2^6')\n",
        "    4\n",
        "    >>> eval_expr('2**6')\n",
        "    64\n",
        "    >>> eval_expr('1 + 2*3**(4^5) / (6 + -7)')\n",
        "    -5.0\n",
        "    \"\"\"\n",
        "    return eval_(ast.parse(expr, mode='eval').body)\n",
        "\n",
        "def eval_(node):\n",
        "    if isinstance(node, ast.Num): # <number>\n",
        "        return node.n\n",
        "    elif isinstance(node, ast.BinOp): # <left> <operator> <right>\n",
        "        return operators[type(node.op)](eval_(node.left), eval_(node.right))\n",
        "    elif isinstance(node, ast.UnaryOp): # <operator> <operand> e.g., -1\n",
        "        return operators[type(node.op)](eval_(node.operand))\n",
        "    else:\n",
        "        raise TypeError(node)\n",
        "\n",
        "'''\n",
        "Workspace Detection\n",
        "'''\n",
        "\n",
        "def sort_contours(cnts, method=\"left-to-right\"):\n",
        "    '''\n",
        "    sort_contours : Function to sort contours\n",
        "    argument:\n",
        "        cnts (array): image contours\n",
        "        method(string) : sorting direction\n",
        "    output:\n",
        "        cnts(list): sorted contours\n",
        "        boundingBoxes(list): bounding boxes\n",
        "    '''\n",
        "    # initialize the reverse flag and sort index\n",
        "    reverse = False\n",
        "    i = 0\n",
        "\n",
        "    # handle if we need to sort in reverse\n",
        "    if method == \"right-to-left\" or method == \"bottom-to-top\":\n",
        "        reverse = True\n",
        "\n",
        "    # handle if we are sorting against the y-coordinate rather than\n",
        "    # the x-coordinate of the bounding box\n",
        "    if method == \"top-to-bottom\" or method == \"bottom-to-top\":\n",
        "        i = 1\n",
        "\n",
        "    # construct the list of bounding boxes and sort them from top to\n",
        "    # bottom\n",
        "    boundingBoxes = [cv2.boundingRect(c) for c in cnts]\n",
        "    (cnts, boundingBoxes) = zip(*sorted(zip(cnts, boundingBoxes),\n",
        "        key=lambda b:b[1][i], reverse=reverse))\n",
        "\n",
        "    # return the list of sorted contours and bounding boxes\n",
        "    return (cnts, boundingBoxes)\n",
        "\n",
        "\n",
        "def getBestShift(img):\n",
        "    '''\n",
        "    getBestShift : Function to calculate centre of mass and get the best shifts\n",
        "    argument:\n",
        "        img (array) : gray scale image\n",
        "    output:\n",
        "        shiftx, shifty: x,y shift direction\n",
        "    '''\n",
        "    cy,cx = ndimage.measurements.center_of_mass(img)\n",
        "    rows,cols = img.shape\n",
        "    shiftx = np.round(cols/2.0-cx).astype(int)\n",
        "    shifty = np.round(rows/2.0-cy).astype(int)\n",
        "\n",
        "    return shiftx,shifty\n",
        "\n",
        "\n",
        "def shift(img,sx,sy):\n",
        "    '''\n",
        "    Shift : Function to shift the image in given direction \n",
        "    argument:\n",
        "        img (array) : gray scale image\n",
        "        sx, sy      : x, y direction\n",
        "    output:\n",
        "        shifted : shifted image\n",
        "    '''\n",
        "    rows,cols = img.shape\n",
        "    M = np.float32([[1,0,sx],[0,1,sy]])\n",
        "    shifted = cv2.warpAffine(img,M,(cols,rows))\n",
        "    return shifted\n",
        "\n",
        "#%%\n",
        "#Data Generator using tensorflow method\n",
        "train_datagen = ImageDataGenerator(   \n",
        "    data_format='channels_first',\n",
        "    zca_whitening = True,\n",
        "    rotation_range = 0.2)\n",
        "#%%\n",
        "def predict(img,x1,y1,x2,y2, proba = False, acc_thresh = 0.60):\n",
        "    '''\n",
        "    predict  : Function to predict the character\n",
        "    argument:\n",
        "        x1,y1(int,int)    : Top left corner point\n",
        "        x2,y2(int,int)    : Bottom right corner point\n",
        "        acc_thresh(0-1)   : Probability threshold for calling model_robusta\n",
        "        proba(bool)       : If probability values is wanted in return\n",
        "    output:\n",
        "        c[index](int) : predicted character \n",
        "    \n",
        "    '''\n",
        "    gray = img[y1:y2, x1:x2]\n",
        "\n",
        "    # Steps to remove noises in image due to cropping\n",
        "    temp = gray.copy()\n",
        "    \n",
        "    kernel_temp = np.ones((3,3), np.uint8) \n",
        "    temp_tmp = cv2.dilate(temp, kernel_temp, iterations=3)\n",
        "    \n",
        "    # Find the contours -  To check whether its disjoint character or noise\n",
        "  \n",
        "    contours_tmp,hierarchy = cv2.findContours(temp_tmp,cv2.RETR_EXTERNAL,cv2.CHAIN_APPROX_SIMPLE)\n",
        "        \n",
        "    if(len(contours_tmp) > 1):\n",
        "        # Find the contours\n",
        "        contours,hierarchy = cv2.findContours(gray,cv2.RETR_EXTERNAL,cv2.CHAIN_APPROX_SIMPLE)\n",
        "        #Creating a mask of only zeros  \n",
        "        mask = np.ones(gray.shape[:2], dtype=\"uint8\") * 0\n",
        "        # Find the index of the largest contour\n",
        "        areas = [cv2.contourArea(c) for c in contours]\n",
        "        max_index = np.argmax(areas)\n",
        "        cnt=contours[max_index]\n",
        "        \n",
        "        cv2.drawContours(mask, [cnt], -1, 255, -1)\n",
        "        #Drawing those contours which are noises and then taking bitwise and\n",
        "        gray = cv2.bitwise_and(temp, temp, mask=mask)\n",
        "        \n",
        "    grayN = process_img (gray, resize_flag = 0)\n",
        "    \n",
        "    classes = model.predict(grayN, batch_size=2)\n",
        "    ind = np.argmax(classes)\n",
        "    c = ['0','1','2','3','4','5','6','7','8','9','+','-','*','(',')','[',']','{','}','=']\n",
        "\n",
        "    \n",
        "    if (proba == True):\n",
        "        return classes[0][ind]\n",
        "    \n",
        "    return c[ind]\n",
        "#%%\n",
        "def process_img (gray, resize_flag = 1, preproc = 0):\n",
        "    '''\n",
        "    process_img  : Function to pre process image for prediction\n",
        "    argument:\n",
        "        gray (Matrix (np.uint8))  : image of character to be resized and processed\n",
        "        resize_flag               : method used for resizing image\n",
        "        preproc (method [bool])   : 0 : No erosion DIlation, 1 : Erosion, Dilation\n",
        "    output:\n",
        "        grayS (Matrix (0-1))      : Normalised image of character resized and processed\n",
        "    \n",
        "    '''    \n",
        "    gray = gray.copy()\n",
        "    \n",
        "    #Image Pre Processing\n",
        "    if (preproc == 0):\n",
        "        gray = cv2.GaussianBlur(gray,(7,7),0)\n",
        "    else :\n",
        "        kernel = np.ones((3,3), np.uint8)\n",
        "        gray = cv2.dilate(gray, kernel, iterations=1)    \n",
        "        gray = cv2.GaussianBlur(gray,(5,5),1)\n",
        "        gray = cv2.dilate(gray, kernel, iterations=2)\n",
        "        gray = cv2.erode(gray, kernel,iterations=2)    \n",
        "    \n",
        "    #Removing rows and columns where all the pixels are black\n",
        "    while np.sum(gray[0]) == 0:\n",
        "        gray = gray[1:]\n",
        "\n",
        "    while np.sum(gray[:,0]) == 0:\n",
        "        gray = np.delete(gray,0,1)\n",
        "\n",
        "    while np.sum(gray[-1]) == 0:\n",
        "        gray = gray[:-1]\n",
        "\n",
        "    while np.sum(gray[:,-1]) == 0:\n",
        "        gray = np.delete(gray,-1,1)\n",
        "\n",
        "    rows,cols = gray.shape\n",
        "    \n",
        "    if(resize_flag) == 1:\n",
        "        interpolation=cv2.INTER_AREA\n",
        "    else:\n",
        "        interpolation=cv2.INTER_CUBIC\n",
        "    # Making the aspect ratio same before re-sizing\n",
        "    if rows > cols:\n",
        "        factor = 20.0/rows\n",
        "        rows = 20\n",
        "        cols = int(round(cols*factor))\n",
        "        # first cols than rows\n",
        "        gray = cv2.resize(gray, (cols,rows),interpolation=interpolation)\n",
        "    else:\n",
        "        factor = 20.0/cols\n",
        "        cols = 20\n",
        "        rows = int(round(rows*factor))\n",
        "        # first cols than rows\n",
        "        gray = cv2.resize(gray, (cols, rows),interpolation=interpolation)\n",
        "   \n",
        "    # Padding to a 28 * 28 image\n",
        "    colsPadding = (int(math.ceil((28-cols)/2.0)),int(math.floor((28-cols)/2.0)))\n",
        "    rowsPadding = (int(math.ceil((28-rows)/2.0)),int(math.floor((28-rows)/2.0)))\n",
        "    gray = np.lib.pad(gray,(rowsPadding,colsPadding),'constant')\n",
        "    \n",
        "    # Get the best shifts\n",
        "    shiftx,shifty = getBestShift(gray)\n",
        "    shifted = shift(gray,shiftx,shifty)\n",
        "    grayS = shifted\n",
        "    grayS = grayS.reshape(1,1,28,28)\n",
        "    \n",
        "    #Normalize the image\n",
        "    grayS = grayS/255\n",
        "    \n",
        "    return grayS\n",
        "\n",
        "def extract_box(img, show=True):\n",
        "    '''\n",
        "    Function to extract the boxes in the ruled worksheet\n",
        "    Input : Image with rectangle, show figures\n",
        "    Output : Extract workspaces locations\n",
        "    '''\n",
        "    image_gray = cv2.cvtColor(img, cv2.COLOR_BGR2GRAY)\n",
        "    \n",
        "    #Otsu thresholding\n",
        "    thresh, binary_image = cv2.threshold(image_gray, 0, 255, cv2.THRESH_BINARY_INV+cv2.THRESH_OTSU)\n",
        "    \n",
        "    # Defining a kernel length\n",
        "    kernel_length = np.array(binary_image).shape[1]//80\n",
        "\n",
        "    verticle_kernel = cv2.getStructuringElement(cv2.MORPH_RECT, (1, kernel_length))\n",
        "    hori_kernel = cv2.getStructuringElement(cv2.MORPH_RECT, (kernel_length, 1))\n",
        "    kernel = cv2.getStructuringElement(cv2.MORPH_RECT, (3, 3))\n",
        "    \n",
        "    # Morphological operation to detect vertical lines from an image\n",
        "    img_temp1 = cv2.erode(binary_image, verticle_kernel, iterations=3)\n",
        "    verticle_lines_img = cv2.dilate(img_temp1, verticle_kernel, iterations=3)\n",
        "\n",
        "    # Morphological operation to detect horizontal lines from an image\n",
        "    img_temp2 = cv2.erode(binary_image, hori_kernel, iterations=3)\n",
        "    horizontal_lines_img = cv2.dilate(img_temp2, hori_kernel, iterations=4)\n",
        "    \n",
        "    #Join horizontal and vertical images\n",
        "    alpha = 0.5\n",
        "    beta = 1.0 - alpha\n",
        "    img_final_bin = cv2.addWeighted(verticle_lines_img, alpha, horizontal_lines_img, beta, 0.0)\n",
        "    img_final_bin = cv2.erode(~img_final_bin, kernel, iterations=2)\n",
        "    (thresh, img_final_bin) = cv2.threshold(img_final_bin, 0,255, cv2.THRESH_BINARY_INV+cv2.THRESH_OTSU)\n",
        "    \n",
        "    #Find and sort the contours\n",
        "    if(cv2.__version__ == '3.3.1'): \n",
        "        xyz,contours, hierarchy = cv2.findContours(img_final_bin, cv2.RETR_TREE, cv2.CHAIN_APPROX_SIMPLE)\n",
        "    else:\n",
        "        contours, hierarchy = cv2.findContours(img_final_bin, cv2.RETR_TREE, cv2.CHAIN_APPROX_SIMPLE)\n",
        "        \n",
        "    (contours, boundingBoxes) = sort_contours(contours, method=\"top-to-bottom\")\n",
        "    \n",
        "    area = []\n",
        "    for contour in contours:\n",
        "        area.append(cv2.contourArea(contour))\n",
        "    \n",
        "    s = np.argsort(area) #sorted area\n",
        "    \n",
        "    workspace_contours = []    \n",
        "    #Find the correct boxes where area is between 40% and 50% of the largest rectangle\n",
        "    for i,contour in enumerate(contours):\n",
        "        if cv2.contourArea(contour) >= area[s[-1]]*0.40  and cv2.contourArea(contour) < area[s[-1]]*0.50:\n",
        "            workspace_contours.append(contour)\n",
        "    \n",
        "    #A list to containg rectangle locs\n",
        "    rectangle_locs =[]   \n",
        "    \n",
        "    #finding out locations of rectangle\n",
        "    for cnt in workspace_contours:\n",
        "        x,y,w,h = cv2.boundingRect(cnt)\n",
        "        rectangle_locs.append([x,y,w,h])        \n",
        "    \n",
        "    if (show):\n",
        "        fig = plt.figure(figsize=(7,9))\n",
        "        fig.suptitle('Extracted Workspaces')\n",
        "        i=1\n",
        "        l = len(rectangle_locs)\n",
        "        for rect in rectangle_locs:\n",
        "            ax = fig.add_subplot(l,1,i)\n",
        "            ax.imshow(img[rect[1]:rect[1]+rect[3], rect[0]:rect[0]+rect[2]])\n",
        "            i = i+1\n",
        "        plt.show()\n",
        "        \n",
        "    return rectangle_locs\n",
        "\n",
        "'''\n",
        "Line Detection\n",
        "'''\n",
        "\n",
        "def find_good_contours_thres(conts, alpha = 0.002):\n",
        "    '''\n",
        "    Function to find threshold of good contours on basis of 10% of maximum area\n",
        "    Input: Contours, threshold for removing noises\n",
        "    Output: Contour area threshold\n",
        "    \n",
        "    For image dim 3307*4676\n",
        "    alpha(text_segment) = 0.01\n",
        "    alpha(extract_line) = 0.002\n",
        "    '''\n",
        "    #Calculating areas of contours and appending them to a list\n",
        "    areas = []\n",
        "    \n",
        "    for c in conts:\n",
        "        areas.append([cv2.contourArea(c)**2])\n",
        "    #alpha is controlling paramter    \n",
        "    thres = alpha * max(areas)[0]\n",
        "    \n",
        "    return thres\n",
        "\n",
        "def extract_line(image, beta=0.7, alpha=0.002, show = True):\n",
        "    '''\n",
        "    Function to extracts the line from the image   \n",
        "    Assumption : Sufficient gap b/w lines\n",
        "    \n",
        "    argument:\n",
        "        img (array): image array\n",
        "        beta (0-1) : Parameter to differentiate line\n",
        "        alpha (0-1) : Parameter to select good contours\n",
        "        show(bool) : to show figures or not\n",
        "    output:\n",
        "        uppers[diff_index]  : Upper points (x,y)\n",
        "        lowers[diff_index]  : lower points(x,y)\n",
        "    '''\n",
        "    img = image.copy()\n",
        "    H,W = img.shape[:2]\n",
        "    h5 = int(.02 * H)\n",
        "    w5 = int(.02 * W)\n",
        "    img[:h5,:] = [255,255,255]\n",
        "    img[-h5:,:] = [255,255,255]\n",
        "    img[:,:w5] = [255,255,255]\n",
        "    img[:,-w5:] = [255,255,255]\n",
        "    \n",
        "    #Converting image to gray\n",
        "    gray = cv2.cvtColor(img, cv2.COLOR_BGR2GRAY)\n",
        "    \n",
        "    #Binary thresholding and inverting at 127\n",
        "    th, threshed = cv2.threshold(gray, 127, 255, cv2.THRESH_BINARY_INV|cv2.THRESH_OTSU)\n",
        "    \n",
        "    #Selecting elliptical element for dilation    \n",
        "    kernel = cv2.getStructuringElement(cv2.MORPH_ELLIPSE,(3,3))\n",
        "    dilation = cv2.dilate(threshed,kernel,iterations = 1)\n",
        "    \n",
        "    #Saving a copy of dilated image for taking bitwise_and operation\n",
        "    temp = dilation.copy()\n",
        "    \n",
        "    # Find the contours\n",
        "    if(cv2.__version__ == '3.3.1'): \n",
        "        xyz,contours,hierarchy = cv2.findContours(dilation,cv2.RETR_EXTERNAL,cv2.CHAIN_APPROX_SIMPLE)\n",
        "    else:\n",
        "        contours,hierarchy = cv2.findContours(dilation,cv2.RETR_EXTERNAL,cv2.CHAIN_APPROX_SIMPLE)\n",
        "        \n",
        "    cont_thresh = find_good_contours_thres(contours, alpha=alpha)\n",
        "\n",
        "    #Creating a mask of only ones    \n",
        "    mask = np.ones(dilation.shape[:2], dtype=\"uint8\") * 255\n",
        "\n",
        "    #Drawing those contours which are noises and then taking bitwise and\n",
        "    for c in contours:\n",
        "        if( cv2.contourArea(c)**2 < cont_thresh):\n",
        "            cv2.drawContours(mask, [c], -1, 0, -1)\n",
        "    \n",
        "    cleaned_img = cv2.bitwise_and(temp, temp, mask=mask)\n",
        "    \n",
        "    #Dilating the cleaned image for better detection of line in cases where\n",
        "    #exponents are little up the line\n",
        "    kernel = cv2.getStructuringElement(cv2.MORPH_ELLIPSE,(3,3))\n",
        "    dil_cleaned_img = cv2.dilate(cleaned_img,kernel,iterations = 10)\n",
        "    \n",
        "    #Getting back the cleaned original image without noise\n",
        "    cleaned_orig = cv2.erode(cleaned_img, kernel, iterations=1) \n",
        "    \n",
        "    ##find and draw the upper and lower boundary of each lines\n",
        "    hist = cv2.reduce(dil_cleaned_img,1, cv2.REDUCE_AVG).reshape(-1)\n",
        "    \n",
        "    th = 1\n",
        "    H,W = img.shape[:2]\n",
        "    uppers = np.array([y for y in range(H-1) if hist[y]<=th and hist[y+1]>th])\n",
        "    lowers = np.array([y for y in range(H-1) if hist[y]>th and hist[y+1]<=th])\n",
        "    \n",
        "    diff_1 = np.array([j-i for i,j in zip(uppers,lowers)])\n",
        "    diff_index_1 = np.array([True if j > beta*(np.mean(diff_1)-np.std(diff_1)) else False for j in diff_1 ])\n",
        "    \n",
        "    uppers = uppers[diff_index_1]\n",
        "    lowers = lowers[diff_index_1]\n",
        "    \n",
        "    #Extending uppers and lowers indexes to avoid cutting of chars of lines\n",
        "    #Extended more uppers by 33% as exponential might lie above \n",
        "    uppers[1:] = [i-int(j)/3 for i,j in zip(uppers[1:], diff_1[1:])]\n",
        "    lowers[:-1] = [i+int(j)/4 for i,j in zip(lowers[:-1], diff_1[:-1])]\n",
        "    \n",
        "    diff_2 = np.array([j-i for i,j in zip(uppers,lowers)])\n",
        "    diff_index_2 = np.array([True]*len(uppers))\n",
        "    \n",
        "    #Combining rogue exponentials into their deserving lines. This happens when\n",
        "    #exponential and lines are separated by some distance\n",
        "    for i,diff in enumerate(diff_2):\n",
        "        if(i>0):\n",
        "            if( (diff_2[i-1] < (diff/2)) and (( lowers[i-1]-uppers[i]) > ((lowers[i-1]-uppers[i-1])/5)) ):\n",
        "                uppers[i] = uppers[i-1]\n",
        "                diff_2[i] = diff_2[i]+diff_2[i-1]\n",
        "                diff_index_2[i-1] = False\n",
        "                print('Merging')\n",
        "\n",
        "    diff_index = diff_index_2\n",
        "    \n",
        "    cleaned_orig_rec = cv2.cvtColor(cleaned_orig, cv2.COLOR_GRAY2BGR)\n",
        "    \n",
        "    #For changing color of intermediate lines, keeping count\n",
        "    col_ct = 0\n",
        "    \n",
        "    for left,right in zip(uppers[diff_index], lowers[diff_index]):\n",
        "        #print(left,right)\n",
        "        col1 = (153,255,255)\n",
        "        col2 = (255,255,153)\n",
        "        if(col_ct % 2 == 0):\n",
        "            col= col1\n",
        "        else: \n",
        "            col=col2\n",
        "        cv2.rectangle(cleaned_orig_rec ,(0+10,left),(W-15,right),col,4)\n",
        "        col_ct += 1\n",
        "        \n",
        "    if(show == True):\n",
        "        fig0 = plt.figure(figsize=(15,5))\n",
        "        ax1 = fig0.add_subplot(1,3,1)\n",
        "        ax1.set_title('Original Image')\n",
        "        ax1.imshow(img)\n",
        "        ax1.axis('off')\n",
        "        \n",
        "        ax2 = fig0.add_subplot(1,3,2)\n",
        "        ax2.set_title('Cleaned Image')\n",
        "        ax2.imshow(cv2.cvtColor(cleaned_img, cv2.COLOR_GRAY2RGB))\n",
        "        ax2.axis('off')\n",
        "        \n",
        "        ax3 = fig0.add_subplot(1,3,3)\n",
        "        ax3.set_title('Noises')\n",
        "        ax3.imshow(cv2.cvtColor(mask, cv2.COLOR_BGR2RGB))\n",
        "        ax3.axis('off')\n",
        "        \n",
        "        fig0.suptitle('Denoising')\n",
        "        plt.show()\n",
        "    \n",
        "        fig1 = plt.figure(figsize=(15,5))\n",
        "        fig1.suptitle('Line Detection')\n",
        "        ax1 = fig1.add_subplot(1,2,1)\n",
        "        ax1.axis(\"off\")\n",
        "        ax1.imshow(cv2.cvtColor(cleaned_orig,cv2.COLOR_BGR2RGB))\n",
        "        \n",
        "        ax2 = fig1.add_subplot(1,2,2)    \n",
        "        ax2.axis(\"off\")\n",
        "        ax2.imshow(cv2.cvtColor(cleaned_orig_rec, cv2.COLOR_BGR2RGB))\n",
        "        \n",
        "        plt.show()\n",
        "    \n",
        "    return cleaned_orig, uppers[diff_index], lowers[diff_index]\n",
        "\n",
        "\n",
        "def evaluate(df,A,B,X,Y):\n",
        "    '''Function to evaluate mathematical equation and give bool output\n",
        "    Input: Dataframe\n",
        "           Values\n",
        "    Output:\n",
        "        Boolean T/F\n",
        "    '''\n",
        "    #Evaluating Expression\n",
        "    #actual = A*X*X+(B*Y)\n",
        "    actual = A*X*X+(B*Y)\n",
        "    \n",
        "    try:#If BODMAS is correct and Mathematically equation is correct\n",
        "        pred = df[\"exp\"].apply(lambda d: \"**\" if d==1 else \"\")\n",
        "        pred = \"\".join(list(pred+df[\"pred\"]))\n",
        "        \n",
        "        #looking for non digits in the start of the string for \n",
        "        #ignoring equal to's\n",
        "        matchesN = re.findall('^\\-\\-', pred)\n",
        "        if(len(matchesN) > 0):\n",
        "            for s in matchesN:\n",
        "                pred = pred.replace(s,'')       \n",
        "                \n",
        "            \n",
        "        #looking for broken 5's\n",
        "        matches5 = re.findall(r'5\\*\\*-\\D*', pred)\n",
        "        if(len(matches5) > 0):\n",
        "            for s in matches5:\n",
        "                sn = s.split('5**-')\n",
        "                snew = sn[0]+'5'+sn[1]\n",
        "                pred = pred.replace(s,snew)  \n",
        "\n",
        "        \n",
        "        #This except block is fired when brackets are un necessarily used \n",
        "        #while writing the answerscripts and in strings\n",
        "        matchesB_left = re.findall(r'\\d\\(\\d', pred)\n",
        "        matchesB_right = re.findall(r'\\d\\)\\d', pred)\n",
        "        \n",
        "        if(len(matchesB_left) > 0 or len(matchesB_right) > 0):\n",
        "            for s in matchesB_left:\n",
        "                sn = s.split('(')\n",
        "                snew = sn[0]+'*('+sn[1]\n",
        "                pred = pred.replace(s,snew)    \n",
        "                \n",
        "            for s in matchesB_right:\n",
        "                sn = s.split(')')\n",
        "                snew = sn[0]+')*'+sn[1]\n",
        "                pred = pred.replace(s,snew) \n",
        "        \n",
        "        ans = eval_expr(pred)\n",
        "        print(pred )\n",
        "#        if(ans == actual):\n",
        "#            val='Correct'\n",
        "#        else:\n",
        "#            val='Wrong'\n",
        "#        print(ans, actual, val)\n",
        "        if(df['pred_proba'].mean() < 0.75):\n",
        "            return 5\n",
        "        \n",
        "    except Exception as e:\n",
        "        print(pred,'-',e)\n",
        "        return 5\n",
        "    \n",
        "    return actual==ans\n",
        "\t\n",
        "def draw_contour(image, c, i):\n",
        "\t# compute the center of the contour area and draw a circle\n",
        "\t# representing the center\n",
        "\tM = cv2.moments(c)\n",
        "\tcX = int(M[\"m10\"] / M[\"m00\"])\n",
        "\tcY = int(M[\"m01\"] / M[\"m00\"])\n",
        " \n",
        "\t# draw the countour number on the image\n",
        "\tcv2.putText(image, \"#{}\".format(i + 1), (cX - 20, cY), cv2.FONT_HERSHEY_SIMPLEX,\n",
        "\t\t1.0, (255, 255, 255), 2)\n",
        " \n",
        "\t# return the image with the contour number drawn on it\n",
        "\treturn image\n",
        "\n",
        "def text_segment(Y1,Y2,X1,X2,box_num,line_name, dict_clean = dict_clean_img,\\\n",
        "                 acc_thresh = 0.60, show = True):\n",
        "    '''\n",
        "    text_segment : Function to segment the characters\n",
        "    Input:\n",
        "        Box coordinates -X1,Y1,X2,Y2\n",
        "        box_num - name of box\n",
        "        line_name - name of line\n",
        "        model - Deep Learning model to be used for prediction\n",
        "        dict_clean - dictionary of clean box images\n",
        "    Output :\n",
        "        box_num - name of box\n",
        "        line_name -name of line\n",
        "        df_char - Dataframe of characters of that particular line\n",
        "    '''\n",
        "    img = dict_clean[box_num][Y1:Y2,X1:X2].copy()\n",
        "    L_H = Y2-Y1\n",
        "    ## apply some dilation and erosion to join the gaps\n",
        "    #Selecting elliptical element for dilation    \n",
        "    kernel = cv2.getStructuringElement(cv2.MORPH_ELLIPSE,(3,3))\n",
        "    dilation = cv2.dilate(img,kernel,iterations = 2)\n",
        "    erosion = cv2.erode(dilation,kernel,iterations = 1)\n",
        "    \n",
        "    # Find the contours\n",
        "    if(cv2.__version__ == '3.3.1'):\n",
        "        xyz,contours,hierarchy = cv2.findContours(erosion,cv2.RETR_EXTERNAL,cv2.CHAIN_APPROX_SIMPLE)\n",
        "    else:\n",
        "        contours,hierarchy = cv2.findContours(erosion,cv2.RETR_EXTERNAL,cv2.CHAIN_APPROX_SIMPLE)\n",
        "        \n",
        "    ct_th = find_good_contours_thres(contours, alpha=0.005)\n",
        "    cnts = []\n",
        "    for c in contours:       \n",
        "        if( cv2.contourArea(c)**2 > ct_th):\n",
        "            cnts.append(c)\n",
        "    contours_sorted,bounding_boxes = sort_contours(cnts,method=\"left-to-right\")\n",
        "    char_locs = []\n",
        "    \n",
        "    img = cv2.cvtColor(img, cv2.COLOR_GRAY2BGR)\n",
        "    \n",
        "    i = 0\n",
        "    char_type =[]\n",
        "    while i in range(0, len(contours_sorted)):\n",
        "            x,y,w,h = bounding_boxes[i]\n",
        "            exp = 0\n",
        "            if i+1 != len(contours_sorted):\n",
        "                x1,y1,w1,h1 = bounding_boxes[i+1]\n",
        "                if abs(x-x1) < 10 and  (h1+h) < 70:\n",
        "                    #print(h+h1)\n",
        "                    minX = min(x,x1)\n",
        "                    minY = min(y,y1)\n",
        "                    maxX = max(x+w, x1+w1)\n",
        "                    maxY = max(y+h, y1+h1)\n",
        "                    x,y,x11,y11 = minX, minY, maxX, maxY\n",
        "                    \n",
        "                    x,y,w,h = x,y,x11-x,y11-y\n",
        "                    i = i+2\n",
        "                    continue\n",
        "            \n",
        "            #char_locs.append([x,y,x+w,y+h])     \n",
        "            if(h<0.10*L_H and w<0.10*L_H):\n",
        "                #print('Yes')\n",
        "                i=i+1\n",
        "                continue\n",
        "\n",
        "            char_locs.append([x-2,y+Y1-2,x+w+1,y+h+Y1+1,w*h]) #Normalised location of char w.r.t box image\n",
        "            \n",
        "            cv2.rectangle(img,(x,y),(x+w,y+h),(153,180,255),2)\n",
        "\n",
        "            if i!=0:\n",
        "                if y+h < (L_H*(1/2)) and y < bounding_boxes[i-1][1] and h < bounding_boxes[i-1][3]:\n",
        "                    exp = 1\n",
        "                    cv2.rectangle(img,(x,y),(x+w,y+h),(0,255,0),2)\n",
        "            i = i+1\n",
        "            char_type.append(exp)\n",
        "             \n",
        "    \n",
        "\n",
        "    df_char = pd.DataFrame(char_locs)\n",
        "    df_char.columns=['X1','Y1','X2','Y2','area']\n",
        "    df_char['exp'] = char_type\n",
        "    df_char['pred'] = df_char.apply(lambda c: predict(dict_clean[box_num],c['X1'],\\\n",
        "           c['Y1'],c['X2'], c['Y2'], acc_thresh=acc_thresh), axis=1 )\n",
        "    df_char['pred_proba'] = df_char.apply(lambda c: predict(dict_clean[box_num],c['X1'],\\\n",
        "           c['Y1'],c['X2'], c['Y2'], proba=True, acc_thresh=acc_thresh), axis=1 )\n",
        "    df_char.apply(lambda c: cv2.putText(img, c['pred'], (c['X1']-10,35), cv2.FONT_HERSHEY_SIMPLEX,  \n",
        "                   1.5,(147,96,247), 3, cv2.LINE_AA), axis=1) \n",
        "    df_char['line_name'] = line_name\n",
        "    df_char['box_num'] = box_num\n",
        "\n",
        "    if(show == True):        \n",
        "        plt.figure(figsize=(15,8))   \n",
        "\n",
        "        plt.axis(\"on\")\n",
        "        plt.imshow(cv2.cvtColor(img, cv2.COLOR_BGR2RGB))\n",
        "        plt.show()\n",
        "    \t  \n",
        "    return [box_num,line_name,df_char]\n"
      ],
      "execution_count": null,
      "outputs": []
    },
    {
      "cell_type": "markdown",
      "metadata": {
        "id": "vtMqmIlvdmnZ"
      },
      "source": [
        "## Read the Image"
      ]
    },
    {
      "cell_type": "code",
      "metadata": {
        "id": "6eR3OnpBWpOx",
        "outputId": "3e0251b0-e555-4a92-c634-8432456c144a",
        "colab": {
          "base_uri": "https://localhost:8080/",
          "height": 721
        }
      },
      "source": [
        "#image_path = os.path.join('Autograding-handwritten-mathematical-worksheets','data','image_7_test.jpg')\n",
        "image_path = os.path.join('pureDataset','10.jpg')\n",
        "A = -5\n",
        "X = 6\n",
        "B = 9\n",
        "Y = -3\n",
        "\n",
        "\n",
        "img = cv2.imread(image_path)\n",
        "plt.figure(figsize=(12,12))\n",
        "plt.imshow(img)\n"
      ],
      "execution_count": null,
      "outputs": [
        {
          "output_type": "execute_result",
          "data": {
            "text/plain": [
              "<matplotlib.image.AxesImage at 0x7fe49040e430>"
            ]
          },
          "metadata": {},
          "execution_count": 41
        },
        {
          "output_type": "display_data",
          "data": {
            "text/plain": [
              "<Figure size 864x864 with 1 Axes>"
            ],
            "image/png": "[encoded data removed]"
          },
          "metadata": {
            "needs_background": "light"
          }
        }
      ]
    },
    {
      "cell_type": "markdown",
      "metadata": {
        "id": "scLQMmPQd9xm"
      },
      "source": [
        "# Extracting WorkSpaces\n",
        "## Logic Used:\n",
        "### 1. Using area based rule to pinpoint the actual boxes inspite of many rectangles present in the worksheet"
      ]
    },
    {
      "cell_type": "code",
      "metadata": {
        "id": "jG6YTj07dyXV",
        "outputId": "29a4cde8-b87c-404e-f7c8-9cb9c2769336",
        "colab": {
          "base_uri": "https://localhost:8080/",
          "height": 602
        }
      },
      "source": [
        "#Workspaces Detection\n",
        "workspaces = extract_box(img)"
      ],
      "execution_count": null,
      "outputs": [
        {
          "output_type": "display_data",
          "data": {
            "text/plain": [
              "<Figure size 504x648 with 3 Axes>"
            ],
            "image/png": "[encoded data removed]"
          },
          "metadata": {
            "needs_background": "light"
          }
        }
      ]
    },
    {
      "cell_type": "markdown",
      "metadata": {
        "id": "YjmuyKoyK-IG"
      },
      "source": [
        "## Line Detection\n",
        "\n",
        "### Logic Used: For Line Localisation\n",
        "\n",
        "![Array Differentiation](data\\line_det.png)\n",
        "\n",
        "Assumptions :\n",
        "1) Sufficient gap between lines is required\n",
        "2) There should be atleast some intersection between exponential character and line"
      ]
    },
    {
      "cell_type": "code",
      "metadata": {
        "id": "gXPI9PjiW1Yu",
        "outputId": "96b50295-9abb-4800-f507-de028c9269be",
        "colab": {
          "base_uri": "https://localhost:8080/",
          "height": 1000
        }
      },
      "source": [
        "#Defining dataframe for storing infos about every line detected\n",
        "df_lines = pd.DataFrame()\n",
        "\n",
        "for r,rect in enumerate(workspaces):\n",
        "    #Cropping boxes for sending to line detection module\n",
        "    box = img[rect[1]:rect[1]+rect[3], rect[0]:rect[0]+rect[2]]\n",
        "    H,W = box.shape[:2]\n",
        "    #Extracting lines present in the boxes\n",
        "    cleaned_orig,y1s,y2s = extract_line(box, show=True)\n",
        "    x1s = [0]*len(y1s)\n",
        "    x2s = [W]*len(y1s)\n",
        "    \n",
        "#        if(len(y1s)-len(y2s) == 0):\n",
        "#            print('Lines in workspace-%d : %d' %(r, len(y1s)))\n",
        "    \n",
        "    df = pd.DataFrame([y1s,y2s,x1s,x2s]).transpose()\n",
        "    df.columns = ['y1','y2','x1','x2']\n",
        "    df['box_num'] = r\n",
        "\n",
        "    df_lines= pd.concat([df_lines, df])\n",
        "\n",
        "    dict_clean_img.update({r:cleaned_orig})\n",
        "    dict_img.update({r:box})\n",
        "    \n",
        "    #print(df)\n",
        "\n",
        "df_lines['line_name'] = ['%d%d' %(df_lines.box_num.iloc[i],df_lines.index[i]) \\\n",
        "        for i in range(len(df_lines))]\n",
        "    \n",
        "    "
      ],
      "execution_count": null,
      "outputs": [
        {
          "output_type": "display_data",
          "data": {
            "text/plain": [
              "<Figure size 1080x360 with 3 Axes>"
            ],
            "image/png": "[encoded data removed]"
          },
          "metadata": {
            "needs_background": "light"
          }
        },
        {
          "output_type": "display_data",
          "data": {
            "text/plain": [
              "<Figure size 1080x360 with 2 Axes>"
            ],
            "image/png": "[encoded data removed]"
          },
          "metadata": {
            "needs_background": "light"
          }
        },
        {
          "output_type": "display_data",
          "data": {
            "text/plain": [
              "<Figure size 1080x360 with 3 Axes>"
            ],
            "image/png": "[encoded data removed]"
          },
          "metadata": {
            "needs_background": "light"
          }
        },
        {
          "output_type": "display_data",
          "data": {
            "text/plain": [
              "<Figure size 1080x360 with 2 Axes>"
            ],
            "image/png": "[encoded data removed]"
          },
          "metadata": {
            "needs_background": "light"
          }
        },
        {
          "output_type": "display_data",
          "data": {
            "text/plain": [
              "<Figure size 1080x360 with 3 Axes>"
            ],
            "image/png": "[encoded data removed]"
          },
          "metadata": {
            "needs_background": "light"
          }
        },
        {
          "output_type": "display_data",
          "data": {
            "text/plain": [
              "<Figure size 1080x360 with 2 Axes>"
            ],
            "image/png": "[encoded data removed]"
          },
          "metadata": {
            "needs_background": "light"
          }
        }
      ]
    },
    {
      "cell_type": "markdown",
      "metadata": {
        "id": "PUmIBUjRZXfS"
      },
      "source": [
        "## Character segmentation \n",
        "\n",
        "\n",
        "### Exponential detection\n",
        "\n",
        "\n",
        "> Any character whose bottom right corner point lies above the centre of the image is considered as exponents\n",
        "![alt text](https://drive.google.com/uc?id=1LR9knGpjhXxEXZVi4_QsbAumswWP75K8)\n",
        "\n",
        "### Character detection\n",
        "\n",
        "\n",
        "> Used deep columnar convolutional neural network architecture. Trained on more than 50,000 images of 15 classes (digits and symbols)\n",
        "\n",
        "### Output\n",
        "\n",
        "\n",
        "> Exponents are in green bounding boxes, Pink text represents predictions\n",
        "\n",
        "\n",
        "\n",
        "\n",
        "\n",
        "\n",
        "\n",
        "\n",
        "\n",
        "\n",
        "\n",
        "\n",
        "\n",
        "\n",
        "\n",
        "\n",
        "\n",
        "\n",
        "\n",
        "\n",
        "\n",
        "\n"
      ]
    },
    {
      "cell_type": "code",
      "metadata": {
        "id": "T35OrxIOKfJ7",
        "colab": {
          "base_uri": "https://localhost:8080/",
          "height": 1000
        },
        "outputId": "d3d7af53-f55b-48a0-ccfc-9db459543674"
      },
      "source": [
        "#df_chars contains locations of all characters along with box_num and line name\n",
        "list_chars = list(df_lines.apply(lambda row: text_segment(row['y1'],row['y2'],\\\n",
        "                 row['x1'],row['x2'], row['box_num'],row['line_name'], \\\n",
        "                 show=True), axis=1))\n",
        "    \n"
      ],
      "execution_count": null,
      "outputs": [
        {
          "output_type": "stream",
          "name": "stdout",
          "text": [
            "1/1 [==============================] - 0s 17ms/step\n",
            "1/1 [==============================] - 0s 14ms/step\n",
            "1/1 [==============================] - 0s 14ms/step\n",
            "1/1 [==============================] - 0s 14ms/step\n",
            "1/1 [==============================] - 0s 14ms/step\n",
            "1/1 [==============================] - 0s 14ms/step\n",
            "1/1 [==============================] - 0s 16ms/step\n",
            "1/1 [==============================] - 0s 14ms/step\n",
            "1/1 [==============================] - 0s 15ms/step\n",
            "1/1 [==============================] - 0s 17ms/step\n",
            "1/1 [==============================] - 0s 15ms/step\n",
            "1/1 [==============================] - 0s 16ms/step\n",
            "1/1 [==============================] - 0s 16ms/step\n",
            "1/1 [==============================] - 0s 17ms/step\n",
            "1/1 [==============================] - 0s 25ms/step\n",
            "1/1 [==============================] - 0s 27ms/step\n",
            "1/1 [==============================] - 0s 26ms/step\n",
            "1/1 [==============================] - 0s 40ms/step\n",
            "1/1 [==============================] - 0s 23ms/step\n",
            "1/1 [==============================] - 0s 68ms/step\n"
          ]
        },
        {
          "output_type": "display_data",
          "data": {
            "text/plain": [
              "<Figure size 1080x576 with 1 Axes>"
            ],
            "image/png": "[encoded data removed]"
          },
          "metadata": {
            "needs_background": "light"
          }
        },
        {
          "output_type": "stream",
          "name": "stdout",
          "text": [
            "1/1 [==============================] - 0s 54ms/step\n",
            "1/1 [==============================] - 0s 37ms/step\n",
            "1/1 [==============================] - 0s 41ms/step\n",
            "1/1 [==============================] - 0s 50ms/step\n",
            "1/1 [==============================] - 0s 14ms/step\n",
            "1/1 [==============================] - 0s 14ms/step\n",
            "1/1 [==============================] - 0s 13ms/step\n",
            "1/1 [==============================] - 0s 13ms/step\n",
            "1/1 [==============================] - 0s 15ms/step\n",
            "1/1 [==============================] - 0s 14ms/step\n",
            "1/1 [==============================] - 0s 14ms/step\n",
            "1/1 [==============================] - 0s 16ms/step\n",
            "1/1 [==============================] - 0s 17ms/step\n",
            "1/1 [==============================] - 0s 19ms/step\n",
            "1/1 [==============================] - 0s 15ms/step\n",
            "1/1 [==============================] - 0s 14ms/step\n"
          ]
        },
        {
          "output_type": "display_data",
          "data": {
            "text/plain": [
              "<Figure size 1080x576 with 1 Axes>"
            ],
            "image/png": "[encoded data removed]"
          },
          "metadata": {
            "needs_background": "light"
          }
        },
        {
          "output_type": "stream",
          "name": "stdout",
          "text": [
            "1/1 [==============================] - 0s 15ms/step\n",
            "1/1 [==============================] - 0s 14ms/step\n",
            "1/1 [==============================] - 0s 14ms/step\n",
            "1/1 [==============================] - 0s 14ms/step\n",
            "1/1 [==============================] - 0s 14ms/step\n",
            "1/1 [==============================] - 0s 16ms/step\n",
            "1/1 [==============================] - 0s 13ms/step\n",
            "1/1 [==============================] - 0s 13ms/step\n",
            "1/1 [==============================] - 0s 17ms/step\n",
            "1/1 [==============================] - 0s 17ms/step\n",
            "1/1 [==============================] - 0s 14ms/step\n",
            "1/1 [==============================] - 0s 16ms/step\n",
            "1/1 [==============================] - 0s 16ms/step\n",
            "1/1 [==============================] - 0s 15ms/step\n"
          ]
        },
        {
          "output_type": "display_data",
          "data": {
            "text/plain": [
              "<Figure size 1080x576 with 1 Axes>"
            ],
            "image/png": "[encoded data removed]"
          },
          "metadata": {
            "needs_background": "light"
          }
        },
        {
          "output_type": "stream",
          "name": "stdout",
          "text": [
            "1/1 [==============================] - 0s 16ms/step\n",
            "1/1 [==============================] - 0s 16ms/step\n",
            "1/1 [==============================] - 0s 13ms/step\n",
            "1/1 [==============================] - 0s 17ms/step\n",
            "1/1 [==============================] - 0s 13ms/step\n",
            "1/1 [==============================] - 0s 15ms/step\n",
            "1/1 [==============================] - 0s 15ms/step\n",
            "1/1 [==============================] - 0s 14ms/step\n"
          ]
        },
        {
          "output_type": "display_data",
          "data": {
            "text/plain": [
              "<Figure size 1080x576 with 1 Axes>"
            ],
            "image/png": "[encoded data removed]"
          },
          "metadata": {
            "needs_background": "light"
          }
        },
        {
          "output_type": "stream",
          "name": "stdout",
          "text": [
            "1/1 [==============================] - 0s 16ms/step\n",
            "1/1 [==============================] - 0s 19ms/step\n"
          ]
        },
        {
          "output_type": "display_data",
          "data": {
            "text/plain": [
              "<Figure size 1080x576 with 1 Axes>"
            ],
            "image/png": "[encoded data removed]"
          },
          "metadata": {
            "needs_background": "light"
          }
        },
        {
          "output_type": "stream",
          "name": "stdout",
          "text": [
            "1/1 [==============================] - 0s 18ms/step\n",
            "1/1 [==============================] - 0s 14ms/step\n"
          ]
        },
        {
          "output_type": "display_data",
          "data": {
            "text/plain": [
              "<Figure size 1080x576 with 1 Axes>"
            ],
            "image/png": "[encoded data removed]"
          },
          "metadata": {
            "needs_background": "light"
          }
        },
        {
          "output_type": "stream",
          "name": "stdout",
          "text": [
            "1/1 [==============================] - 0s 18ms/step\n",
            "1/1 [==============================] - 0s 14ms/step\n"
          ]
        },
        {
          "output_type": "display_data",
          "data": {
            "text/plain": [
              "<Figure size 1080x576 with 1 Axes>"
            ],
            "image/png": "[encoded data removed]"
          },
          "metadata": {
            "needs_background": "light"
          }
        },
        {
          "output_type": "stream",
          "name": "stdout",
          "text": [
            "1/1 [==============================] - 0s 17ms/step\n",
            "1/1 [==============================] - 0s 15ms/step\n"
          ]
        },
        {
          "output_type": "display_data",
          "data": {
            "text/plain": [
              "<Figure size 1080x576 with 1 Axes>"
            ],
            "image/png": "[encoded data removed]"
          },
          "metadata": {
            "needs_background": "light"
          }
        },
        {
          "output_type": "stream",
          "name": "stdout",
          "text": [
            "1/1 [==============================] - 0s 14ms/step\n",
            "1/1 [==============================] - 0s 14ms/step\n"
          ]
        },
        {
          "output_type": "display_data",
          "data": {
            "text/plain": [
              "<Figure size 1080x576 with 1 Axes>"
            ],
            "image/png": "[encoded data removed]"
          },
          "metadata": {
            "needs_background": "light"
          }
        },
        {
          "output_type": "stream",
          "name": "stdout",
          "text": [
            "1/1 [==============================] - 0s 17ms/step\n",
            "1/1 [==============================] - 0s 15ms/step\n"
          ]
        },
        {
          "output_type": "display_data",
          "data": {
            "text/plain": [
              "<Figure size 1080x576 with 1 Axes>"
            ],
            "image/png": "[encoded data removed]"
          },
          "metadata": {
            "needs_background": "light"
          }
        },
        {
          "output_type": "stream",
          "name": "stdout",
          "text": [
            "1/1 [==============================] - 0s 18ms/step\n",
            "1/1 [==============================] - 0s 15ms/step\n"
          ]
        },
        {
          "output_type": "display_data",
          "data": {
            "text/plain": [
              "<Figure size 1080x576 with 1 Axes>"
            ],
            "image/png": "[encoded data removed]"
          },
          "metadata": {
            "needs_background": "light"
          }
        },
        {
          "output_type": "stream",
          "name": "stdout",
          "text": [
            "1/1 [==============================] - 0s 15ms/step\n",
            "1/1 [==============================] - 0s 15ms/step\n"
          ]
        },
        {
          "output_type": "display_data",
          "data": {
            "text/plain": [
              "<Figure size 1080x576 with 1 Axes>"
            ],
            "image/png": "[encoded data removed]"
          },
          "metadata": {
            "needs_background": "light"
          }
        }
      ]
    },
    {
      "cell_type": "markdown",
      "metadata": {
        "id": "K81QMHqKfrNy"
      },
      "source": [
        "## Evaluation\n",
        "\n",
        "### Algebraic equation : A*X<sup>2</sup> + B*Y\n",
        "> Red Bounding Box - Incorrect answer\n",
        "\n",
        "> Green Bounding Box - Correcr answer\n",
        "\n",
        "> Blue Bounding Box - Undetermined (Needs manual evaluation)\n",
        "\n",
        "\n",
        "\n",
        "\n",
        "\n"
      ]
    },
    {
      "cell_type": "code",
      "metadata": {
        "id": "6nxgdxsaX07S",
        "colab": {
          "base_uri": "https://localhost:8080/",
          "height": 1000
        },
        "outputId": "64308727-8d07-481b-ebcd-75fb1006d0d1"
      },
      "source": [
        "df_chars = pd.DataFrame(list_chars)\n",
        "df_chars.columns = ['box_num', 'line_name', 'char_df']\n",
        "    \n",
        "box_nums = df_chars.box_num.unique()\n",
        "char_area_list = []\n",
        "df_chars['char_df'].apply(lambda d: char_area_list.append(list(d['area'])) )\n",
        "\n",
        "#Area based threshold for detecting and removing noises\n",
        "gamma = 0\n",
        "max_ar = max([max(i) for i in char_area_list])\n",
        "ar_thresh = max_ar*gamma\n",
        "\n",
        "#Keeping only those characters whose area of contours is above area threshold\n",
        "df_chars['char_df'] = df_chars['char_df'].apply(lambda d: d[d.area > ar_thresh] )\n",
        "\n",
        "for bn in box_nums:\n",
        "    print('BOX %d' %(bn+1))\n",
        "    box_img = dict_clean_img[bn] #For Processing B/W image\n",
        "    box_img_1 = dict_img[bn] #For saving results\n",
        "    box_img = cv2.cvtColor(box_img, cv2.COLOR_GRAY2BGR)\n",
        "    \n",
        "    df = df_chars[df_chars.box_num == bn].copy()\n",
        "    df_l = df_lines[df_lines[\"box_num\"]==bn].copy() #Defining dF with line info\n",
        "    \n",
        "    df['char_df'].apply(lambda d: d.apply(lambda c: cv2.rectangle(box_img, \\\n",
        "      (c['X1'],c['Y1']),(c['X2'], c['Y2']),(255*(c['exp']==1),180,0),2+(2*c['exp'])), axis=1 ) )\n",
        "    \n",
        "    df['line_status'] = df['char_df'].apply(lambda d: evaluate(d[[\"pred\",\"exp\",\"pred_proba\"]],A,B,X,Y))\n",
        "    \n",
        "    scale_percent = 200 # percent of original size\n",
        "    width = int(box_img.shape[1] * scale_percent / 100)\n",
        "    height = int(box_img.shape[0] * scale_percent / 100)\n",
        "    dim = (width, height)    \n",
        "    box_img = cv2.resize(box_img, dim, interpolation = cv2.INTER_AREA)\n",
        "\n",
        "    #Drawing rectangle on original Image\n",
        "    df_l['line_status'] = list(df['line_status']) \n",
        "    df_l.apply(lambda c: cv2.rectangle(box_img_1, (c['x1'],c['y1']),(c['x2'],\\\n",
        "      c['y2']),(255*(c['line_status']==5),255*(c['line_status']==True),\\\n",
        "                                255*(c['line_status']==False)),2), axis=1)\n",
        "    \n",
        "    plt.figure(figsize=(13,7))\n",
        "    plt.title('Box - %d' %(bn+1) )\n",
        "    plt.imshow(cv2.cvtColor(box_img_1, cv2.COLOR_BGR2RGB))\n",
        "    plt.figure()\n",
        "\n"
      ],
      "execution_count": null,
      "outputs": [
        {
          "output_type": "stream",
          "name": "stdout",
          "text": [
            "BOX 1\n",
            "-5*6**2+9*-3\n",
            "-5*36+27\n",
            "-180-27\n",
            "-207\n",
            "BOX 2\n",
            "0\n",
            "0\n",
            "0\n",
            "0\n",
            "0\n",
            "BOX 3\n",
            "0\n",
            "0\n",
            "0\n"
          ]
        },
        {
          "output_type": "display_data",
          "data": {
            "text/plain": [
              "<Figure size 936x504 with 1 Axes>"
            ],
            "image/png": "[encoded data removed]"
          },
          "metadata": {
            "needs_background": "light"
          }
        },
        {
          "output_type": "display_data",
          "data": {
            "text/plain": [
              "<Figure size 432x288 with 0 Axes>"
            ]
          },
          "metadata": {}
        },
        {
          "output_type": "display_data",
          "data": {
            "text/plain": [
              "<Figure size 936x504 with 1 Axes>"
            ],
            "image/png": "[encoded data removed]"
          },
          "metadata": {
            "needs_background": "light"
          }
        },
        {
          "output_type": "display_data",
          "data": {
            "text/plain": [
              "<Figure size 432x288 with 0 Axes>"
            ]
          },
          "metadata": {}
        },
        {
          "output_type": "display_data",
          "data": {
            "text/plain": [
              "<Figure size 936x504 with 1 Axes>"
            ],
            "image/png": "[encoded data removed]"
          },
          "metadata": {
            "needs_background": "light"
          }
        },
        {
          "output_type": "display_data",
          "data": {
            "text/plain": [
              "<Figure size 432x288 with 0 Axes>"
            ]
          },
          "metadata": {}
        }
      ]
    },
    {
      "cell_type": "markdown",
      "source": [
        "# "
      ],
      "metadata": {
        "id": "hEcyKkfZ3pkc"
      }
    }
  ]
}